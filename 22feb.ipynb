{
 "cells": [
  {
   "cell_type": "code",
   "execution_count": 2,
   "id": "e82e3231-3c3c-40f5-af7a-5340bceedd56",
   "metadata": {},
   "outputs": [],
   "source": [
    "1:\n",
    "import requests\n",
    "from bs4 import BeautifulSoup\n",
    "\n",
    "# Specify the URL of the YouTube channel\n",
    "url = 'https://www.youtube.com/c/PW-Foundation/videos'\n",
    "\n",
    "# Send a GET request to the URL and get the HTML response\n",
    "response = requests.get(url)\n",
    "html_content = response.content\n",
    "\n",
    "# Parse the HTML content using Beautiful Soup\n",
    "soup = BeautifulSoup(html_content, 'html.parser')\n",
    "\n",
    "# Find the first five video links\n",
    "video_links = soup.find_all('a', {'class': 'yt-simple-endpoint style-scope ytd-grid-video-renderer'})\n",
    "for i, link in enumerate(video_links[:5], start=1):\n",
    "    video_url = 'https://www.youtube.com' + link['href']\n",
    "    print(f\"Video {i}: {video_url}\")\n"
   ]
  },
  {
   "cell_type": "code",
   "execution_count": 4,
   "id": "1cd12e54-3ee2-419a-8b5e-255dc8920279",
   "metadata": {},
   "outputs": [],
   "source": [
    "2:\n",
    "\n",
    "import requests\n",
    "from bs4 import BeautifulSoup\n",
    "\n",
    "url = 'https://www.youtube.com/@PW-Foundation/videos'\n",
    "\n",
    "response = requests.get(url)\n",
    "soup = BeautifulSoup(response.text, 'html.parser')\n",
    "\n",
    "video_thumbnails = soup.find_all('a', {'class': 'yt-simple-endpoint style-scope ytd-grid-video-renderer'})\n",
    "\n",
    "for i in range(min(len(video_thumbnails), 5)):\n",
    "    video_thumbnail = video_thumbnails[i].find('img')\n",
    "    thumbnail_url = video_thumbnail['src']\n",
    "    print(thumbnail_url)\n"
   ]
  },
  {
   "cell_type": "code",
   "execution_count": 5,
   "id": "50d3cdf6-56e2-439c-9452-2083aa96b467",
   "metadata": {},
   "outputs": [],
   "source": [
    "3:\n",
    "import requests\n",
    "from bs4 import BeautifulSoup\n",
    "\n",
    "url = 'https://www.youtube.com/@PW-Foundation/videos'\n",
    "\n",
    "response = requests.get(url)\n",
    "soup = BeautifulSoup(response.text, 'html.parser')\n",
    "\n",
    "video_titles = soup.find_all('a', {'class': 'yt-simple-endpoint style-scope ytd-grid-video-renderer'})\n",
    "\n",
    "for i in range(min(len(video_titles), 5)):\n",
    "    video_title = video_titles[i].find('span', {'class': 'style-scope ytd-grid-video-renderer'})\n",
    "    print(video_title.text.strip())\n"
   ]
  },
  {
   "cell_type": "code",
   "execution_count": 7,
   "id": "76bcf028-1d4d-4d47-85e1-255010c89c97",
   "metadata": {},
   "outputs": [],
   "source": [
    "4:\n",
    "import requests\n",
    "from bs4 import BeautifulSoup\n",
    "\n",
    "url = 'https://www.youtube.com/@PW-Foundation/videos'\n",
    "response = requests.get(url)\n",
    "\n",
    "soup = BeautifulSoup(response.text, 'html.parser')\n",
    "videos = soup.findAll('div', {'class': 'style-scope ytd-grid-renderer'})\n",
    "\n",
    "for video in videos[:5]:\n",
    "    title = video.find('a', {'id': 'video-title'})\n",
    "    views = video.find('span', {'class': 'style-scope ytd-grid-video-renderer'})\n",
    "    print(title.text.strip())\n",
    "    print(views.text.strip())\n",
    "    print()\n"
   ]
  },
  {
   "cell_type": "code",
   "execution_count": 9,
   "id": "ee1eba60-8940-4d8e-a6f7-ff4fd4680ed9",
   "metadata": {},
   "outputs": [],
   "source": [
    "5:\n",
    "\n",
    "import requests\n",
    "from bs4 import BeautifulSoup\n",
    "\n",
    "url = \"https://www.youtube.com/@PW-Foundation/videos\"\n",
    "response = requests.get(url)\n",
    "\n",
    "soup = BeautifulSoup(response.text, \"html.parser\")\n",
    "\n",
    "video_containers = soup.find_all(\"div\", {\"class\": \"style-scope ytd-grid-video-renderer\"})\n",
    "for i, video in enumerate(video_containers[:5]):\n",
    "    video_link = \"https://www.youtube.com\" + video.find(\"a\", {\"class\": \"yt-simple-endpoint style-scope ytd-grid-video-renderer\"})['href']\n",
    "    video_response = requests.get(video_link)\n",
    "    video_soup = BeautifulSoup(video_response.text, \"html.parser\")\n",
    "    time_of_posting = video_soup.find(\"div\", {\"class\": \"style-scope ytd-video-primary-info-renderer\"}).find_all(\"span\")[1].text\n",
    "    print(\"Video \" + str(i+1) + \":\", time_of_posting)\n"
   ]
  },
  {
   "cell_type": "code",
   "execution_count": null,
   "id": "10dbb2c3-b91c-4358-8b83-9b8a80d692f9",
   "metadata": {},
   "outputs": [],
   "source": []
  },
  {
   "cell_type": "code",
   "execution_count": null,
   "id": "171de65e-fd49-4609-9698-620c63e2e85c",
   "metadata": {},
   "outputs": [],
   "source": []
  }
 ],
 "metadata": {
  "kernelspec": {
   "display_name": "Python 3 (ipykernel)",
   "language": "python",
   "name": "python3"
  },
  "language_info": {
   "codemirror_mode": {
    "name": "ipython",
    "version": 3
   },
   "file_extension": ".py",
   "mimetype": "text/x-python",
   "name": "python",
   "nbconvert_exporter": "python",
   "pygments_lexer": "ipython3",
   "version": "3.10.8"
  }
 },
 "nbformat": 4,
 "nbformat_minor": 5
}
